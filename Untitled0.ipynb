{
  "nbformat": 4,
  "nbformat_minor": 0,
  "metadata": {
    "colab": {
      "name": "Untitled0.ipynb",
      "provenance": [],
      "collapsed_sections": [],
      "toc_visible": true,
      "authorship_tag": "ABX9TyNogJ64SLD3rXCHlCA+1U1b",
      "include_colab_link": true
    },
    "kernelspec": {
      "name": "python3",
      "display_name": "Python 3"
    },
    "language_info": {
      "name": "python"
    },
    "widgets": {
      "application/vnd.jupyter.widget-state+json": {
        "38539aa7e99740fe9644a03fc4064f31": {
          "model_module": "@jupyter-widgets/controls",
          "model_name": "HBoxModel",
          "state": {
            "_view_name": "HBoxView",
            "_dom_classes": [],
            "_model_name": "HBoxModel",
            "_view_module": "@jupyter-widgets/controls",
            "_model_module_version": "1.5.0",
            "_view_count": null,
            "_view_module_version": "1.5.0",
            "box_style": "",
            "layout": "IPY_MODEL_3d841cad1aa247beb66c4c5a30424683",
            "_model_module": "@jupyter-widgets/controls",
            "children": [
              "IPY_MODEL_42b070f8a4584137873d45988792c391",
              "IPY_MODEL_7575ca3ca6c14490942b9afaecd7c96a"
            ]
          }
        },
        "3d841cad1aa247beb66c4c5a30424683": {
          "model_module": "@jupyter-widgets/base",
          "model_name": "LayoutModel",
          "state": {
            "_view_name": "LayoutView",
            "grid_template_rows": null,
            "right": null,
            "justify_content": null,
            "_view_module": "@jupyter-widgets/base",
            "overflow": null,
            "_model_module_version": "1.2.0",
            "_view_count": null,
            "flex_flow": null,
            "width": null,
            "min_width": null,
            "border": null,
            "align_items": null,
            "bottom": null,
            "_model_module": "@jupyter-widgets/base",
            "top": null,
            "grid_column": null,
            "overflow_y": null,
            "overflow_x": null,
            "grid_auto_flow": null,
            "grid_area": null,
            "grid_template_columns": null,
            "flex": null,
            "_model_name": "LayoutModel",
            "justify_items": null,
            "grid_row": null,
            "max_height": null,
            "align_content": null,
            "visibility": null,
            "align_self": null,
            "height": null,
            "min_height": null,
            "padding": null,
            "grid_auto_rows": null,
            "grid_gap": null,
            "max_width": null,
            "order": null,
            "_view_module_version": "1.2.0",
            "grid_template_areas": null,
            "object_position": null,
            "object_fit": null,
            "grid_auto_columns": null,
            "margin": null,
            "display": null,
            "left": null
          }
        },
        "42b070f8a4584137873d45988792c391": {
          "model_module": "@jupyter-widgets/controls",
          "model_name": "FloatProgressModel",
          "state": {
            "_view_name": "ProgressView",
            "style": "IPY_MODEL_c09f1fc31ae04f8d8fe7e95a8c926658",
            "_dom_classes": [],
            "description": "100%",
            "_model_name": "FloatProgressModel",
            "bar_style": "success",
            "max": 102502400,
            "_view_module": "@jupyter-widgets/controls",
            "_model_module_version": "1.5.0",
            "value": 102502400,
            "_view_count": null,
            "_view_module_version": "1.5.0",
            "orientation": "horizontal",
            "min": 0,
            "description_tooltip": null,
            "_model_module": "@jupyter-widgets/controls",
            "layout": "IPY_MODEL_d6b3edcda3d741d796305e2457852088"
          }
        },
        "7575ca3ca6c14490942b9afaecd7c96a": {
          "model_module": "@jupyter-widgets/controls",
          "model_name": "HTMLModel",
          "state": {
            "_view_name": "HTMLView",
            "style": "IPY_MODEL_8804d894dc2d4880a78b607d1cb8412d",
            "_dom_classes": [],
            "description": "",
            "_model_name": "HTMLModel",
            "placeholder": "​",
            "_view_module": "@jupyter-widgets/controls",
            "_model_module_version": "1.5.0",
            "value": " 97.8M/97.8M [00:00&lt;00:00, 119MB/s]",
            "_view_count": null,
            "_view_module_version": "1.5.0",
            "description_tooltip": null,
            "_model_module": "@jupyter-widgets/controls",
            "layout": "IPY_MODEL_f7f8b65391db4d05bf03e05ce06e0986"
          }
        },
        "c09f1fc31ae04f8d8fe7e95a8c926658": {
          "model_module": "@jupyter-widgets/controls",
          "model_name": "ProgressStyleModel",
          "state": {
            "_view_name": "StyleView",
            "_model_name": "ProgressStyleModel",
            "description_width": "initial",
            "_view_module": "@jupyter-widgets/base",
            "_model_module_version": "1.5.0",
            "_view_count": null,
            "_view_module_version": "1.2.0",
            "bar_color": null,
            "_model_module": "@jupyter-widgets/controls"
          }
        },
        "d6b3edcda3d741d796305e2457852088": {
          "model_module": "@jupyter-widgets/base",
          "model_name": "LayoutModel",
          "state": {
            "_view_name": "LayoutView",
            "grid_template_rows": null,
            "right": null,
            "justify_content": null,
            "_view_module": "@jupyter-widgets/base",
            "overflow": null,
            "_model_module_version": "1.2.0",
            "_view_count": null,
            "flex_flow": null,
            "width": null,
            "min_width": null,
            "border": null,
            "align_items": null,
            "bottom": null,
            "_model_module": "@jupyter-widgets/base",
            "top": null,
            "grid_column": null,
            "overflow_y": null,
            "overflow_x": null,
            "grid_auto_flow": null,
            "grid_area": null,
            "grid_template_columns": null,
            "flex": null,
            "_model_name": "LayoutModel",
            "justify_items": null,
            "grid_row": null,
            "max_height": null,
            "align_content": null,
            "visibility": null,
            "align_self": null,
            "height": null,
            "min_height": null,
            "padding": null,
            "grid_auto_rows": null,
            "grid_gap": null,
            "max_width": null,
            "order": null,
            "_view_module_version": "1.2.0",
            "grid_template_areas": null,
            "object_position": null,
            "object_fit": null,
            "grid_auto_columns": null,
            "margin": null,
            "display": null,
            "left": null
          }
        },
        "8804d894dc2d4880a78b607d1cb8412d": {
          "model_module": "@jupyter-widgets/controls",
          "model_name": "DescriptionStyleModel",
          "state": {
            "_view_name": "StyleView",
            "_model_name": "DescriptionStyleModel",
            "description_width": "",
            "_view_module": "@jupyter-widgets/base",
            "_model_module_version": "1.5.0",
            "_view_count": null,
            "_view_module_version": "1.2.0",
            "_model_module": "@jupyter-widgets/controls"
          }
        },
        "f7f8b65391db4d05bf03e05ce06e0986": {
          "model_module": "@jupyter-widgets/base",
          "model_name": "LayoutModel",
          "state": {
            "_view_name": "LayoutView",
            "grid_template_rows": null,
            "right": null,
            "justify_content": null,
            "_view_module": "@jupyter-widgets/base",
            "overflow": null,
            "_model_module_version": "1.2.0",
            "_view_count": null,
            "flex_flow": null,
            "width": null,
            "min_width": null,
            "border": null,
            "align_items": null,
            "bottom": null,
            "_model_module": "@jupyter-widgets/base",
            "top": null,
            "grid_column": null,
            "overflow_y": null,
            "overflow_x": null,
            "grid_auto_flow": null,
            "grid_area": null,
            "grid_template_columns": null,
            "flex": null,
            "_model_name": "LayoutModel",
            "justify_items": null,
            "grid_row": null,
            "max_height": null,
            "align_content": null,
            "visibility": null,
            "align_self": null,
            "height": null,
            "min_height": null,
            "padding": null,
            "grid_auto_rows": null,
            "grid_gap": null,
            "max_width": null,
            "order": null,
            "_view_module_version": "1.2.0",
            "grid_template_areas": null,
            "object_position": null,
            "object_fit": null,
            "grid_auto_columns": null,
            "margin": null,
            "display": null,
            "left": null
          }
        }
      }
    }
  },
  "cells": [
    {
      "cell_type": "markdown",
      "metadata": {
        "id": "view-in-github",
        "colab_type": "text"
      },
      "source": [
        "<a href=\"https://colab.research.google.com/github/Qwaszx-2015/Test_PO/blob/master/Untitled0.ipynb\" target=\"_parent\"><img src=\"https://colab.research.google.com/assets/colab-badge.svg\" alt=\"Open In Colab\"/></a>"
      ]
    },
    {
      "cell_type": "code",
      "metadata": {
        "id": "4MglWzjNbkMN",
        "colab": {
          "base_uri": "https://localhost:8080/"
        },
        "outputId": "0d24528d-b332-4556-fb0c-da5194a0d562"
      },
      "source": [
        "!pip install google-api-python-client\n",
        "from matplotlib import pyplot as plt\n",
        "import numpy as np\n",
        "import os\n",
        "import io\n",
        "from googleapiclient.http import MediaIoBaseDownload\n",
        "from collections import *\n",
        "import cv2\n",
        "from google.colab import auth\n",
        "from googleapiclient.discovery import build\n",
        "from google.colab.patches import cv2_imshow\n",
        "\n",
        "import torch\n",
        "\n",
        "from tqdm import tqdm\n",
        "from torch.utils.data import Dataset, DataLoader\n",
        "from torchvision.models import resnet50\n",
        "\n",
        "\n",
        "from torchvision import transforms\n",
        "from sklearn.model_selection import train_test_split\n",
        "from sklearn.metrics import accuracy_score\n",
        "\n",
        "import random\n",
        "import albumentations as A"
      ],
      "execution_count": 84,
      "outputs": [
        {
          "output_type": "stream",
          "text": [
            "Requirement already satisfied: google-api-python-client in /usr/local/lib/python3.7/dist-packages (1.12.8)\n",
            "Requirement already satisfied: httplib2<1dev,>=0.15.0 in /usr/local/lib/python3.7/dist-packages (from google-api-python-client) (0.17.4)\n",
            "Requirement already satisfied: google-auth>=1.16.0 in /usr/local/lib/python3.7/dist-packages (from google-api-python-client) (1.30.0)\n",
            "Requirement already satisfied: uritemplate<4dev,>=3.0.0 in /usr/local/lib/python3.7/dist-packages (from google-api-python-client) (3.0.1)\n",
            "Requirement already satisfied: google-auth-httplib2>=0.0.3 in /usr/local/lib/python3.7/dist-packages (from google-api-python-client) (0.0.4)\n",
            "Requirement already satisfied: six<2dev,>=1.13.0 in /usr/local/lib/python3.7/dist-packages (from google-api-python-client) (1.15.0)\n",
            "Requirement already satisfied: google-api-core<2dev,>=1.21.0 in /usr/local/lib/python3.7/dist-packages (from google-api-python-client) (1.26.3)\n",
            "Requirement already satisfied: cachetools<5.0,>=2.0.0 in /usr/local/lib/python3.7/dist-packages (from google-auth>=1.16.0->google-api-python-client) (4.2.2)\n",
            "Requirement already satisfied: setuptools>=40.3.0 in /usr/local/lib/python3.7/dist-packages (from google-auth>=1.16.0->google-api-python-client) (56.1.0)\n",
            "Requirement already satisfied: rsa<5,>=3.1.4; python_version >= \"3.6\" in /usr/local/lib/python3.7/dist-packages (from google-auth>=1.16.0->google-api-python-client) (4.7.2)\n",
            "Requirement already satisfied: pyasn1-modules>=0.2.1 in /usr/local/lib/python3.7/dist-packages (from google-auth>=1.16.0->google-api-python-client) (0.2.8)\n",
            "Requirement already satisfied: googleapis-common-protos<2.0dev,>=1.6.0 in /usr/local/lib/python3.7/dist-packages (from google-api-core<2dev,>=1.21.0->google-api-python-client) (1.53.0)\n",
            "Requirement already satisfied: packaging>=14.3 in /usr/local/lib/python3.7/dist-packages (from google-api-core<2dev,>=1.21.0->google-api-python-client) (20.9)\n",
            "Requirement already satisfied: requests<3.0.0dev,>=2.18.0 in /usr/local/lib/python3.7/dist-packages (from google-api-core<2dev,>=1.21.0->google-api-python-client) (2.23.0)\n",
            "Requirement already satisfied: protobuf>=3.12.0 in /usr/local/lib/python3.7/dist-packages (from google-api-core<2dev,>=1.21.0->google-api-python-client) (3.12.4)\n",
            "Requirement already satisfied: pytz in /usr/local/lib/python3.7/dist-packages (from google-api-core<2dev,>=1.21.0->google-api-python-client) (2018.9)\n",
            "Requirement already satisfied: pyasn1>=0.1.3 in /usr/local/lib/python3.7/dist-packages (from rsa<5,>=3.1.4; python_version >= \"3.6\"->google-auth>=1.16.0->google-api-python-client) (0.4.8)\n",
            "Requirement already satisfied: pyparsing>=2.0.2 in /usr/local/lib/python3.7/dist-packages (from packaging>=14.3->google-api-core<2dev,>=1.21.0->google-api-python-client) (2.4.7)\n",
            "Requirement already satisfied: certifi>=2017.4.17 in /usr/local/lib/python3.7/dist-packages (from requests<3.0.0dev,>=2.18.0->google-api-core<2dev,>=1.21.0->google-api-python-client) (2020.12.5)\n",
            "Requirement already satisfied: idna<3,>=2.5 in /usr/local/lib/python3.7/dist-packages (from requests<3.0.0dev,>=2.18.0->google-api-core<2dev,>=1.21.0->google-api-python-client) (2.10)\n",
            "Requirement already satisfied: chardet<4,>=3.0.2 in /usr/local/lib/python3.7/dist-packages (from requests<3.0.0dev,>=2.18.0->google-api-core<2dev,>=1.21.0->google-api-python-client) (3.0.4)\n",
            "Requirement already satisfied: urllib3!=1.25.0,!=1.25.1,<1.26,>=1.21.1 in /usr/local/lib/python3.7/dist-packages (from requests<3.0.0dev,>=2.18.0->google-api-core<2dev,>=1.21.0->google-api-python-client) (1.24.3)\n"
          ],
          "name": "stdout"
        }
      ]
    },
    {
      "cell_type": "markdown",
      "metadata": {
        "id": "dT194bo_b5wk"
      },
      "source": [
        "# задание 1"
      ]
    },
    {
      "cell_type": "code",
      "metadata": {
        "id": "ZGkw71yvcJ1e"
      },
      "source": [
        "def download_data(file_id, file_name):\n",
        "  import io\n",
        "  from googleapiclient.http import MediaIoBaseDownload\n",
        "\n",
        "  request = drive_service.files().get_media(fileId=file_id)\n",
        "  downloaded = io.BytesIO()\n",
        "  downloader = MediaIoBaseDownload(downloaded, request)\n",
        "  done = False\n",
        "  while done is False:\n",
        "    _, done = downloader.next_chunk()\n",
        "    \n",
        "  downloaded.seek(0)\n",
        "  with open(file_name, \"wb\") as f:\n",
        "    f.write(downloaded.read())"
      ],
      "execution_count": 38,
      "outputs": []
    },
    {
      "cell_type": "code",
      "metadata": {
        "colab": {
          "base_uri": "https://localhost:8080/"
        },
        "id": "Pn8bCYDaS2Rd",
        "outputId": "399aa5a2-6979-4e1f-a577-bf36a9810590"
      },
      "source": [
        "from google.colab import drive\n",
        "drive.mount('/content/drive')\n",
        "\n",
        "auth.authenticate_user()\n",
        "drive_service = build('drive', 'v3')\n",
        "\n",
        "file_id = '1LLuypl_OCOsV78SxTIV41LvVfTByIkjQ'\n",
        "file_name = 'task1.zip'\n",
        "\n",
        "download_data(file_id, file_name)\n",
        "\n",
        "!unzip task1.zip"
      ],
      "execution_count": 85,
      "outputs": [
        {
          "output_type": "stream",
          "text": [
            "Drive already mounted at /content/drive; to attempt to forcibly remount, call drive.mount(\"/content/drive\", force_remount=True).\n",
            "Archive:  task1.zip\n",
            "replace task1/0.jpg? [y]es, [n]o, [A]ll, [N]one, [r]ename: n\n",
            "replace task1/10.jpg? [y]es, [n]o, [A]ll, [N]one, [r]ename: n\n",
            "replace task1/13.jpg? [y]es, [n]o, [A]ll, [N]one, [r]ename: n\n",
            "replace task1/17.jpg? [y]es, [n]o, [A]ll, [N]one, [r]ename: n\n",
            "replace task1/20.jpg? [y]es, [n]o, [A]ll, [N]one, [r]ename: n\n",
            "replace task1/23.jpg? [y]es, [n]o, [A]ll, [N]one, [r]ename: n\n",
            "replace task1/27.jpg? [y]es, [n]o, [A]ll, [N]one, [r]ename: n\n",
            "replace task1/3.jpg? [y]es, [n]o, [A]ll, [N]one, [r]ename: n\n",
            "replace task1/30.jpg? [y]es, [n]o, [A]ll, [N]one, [r]ename: n\n",
            "replace task1/33.jpg? [y]es, [n]o, [A]ll, [N]one, [r]ename: n\n",
            "replace task1/37.jpg? [y]es, [n]o, [A]ll, [N]one, [r]ename: n\n",
            "replace task1/40.jpg? [y]es, [n]o, [A]ll, [N]one, [r]ename: n\n",
            "replace task1/7.jpg? [y]es, [n]o, [A]ll, [N]one, [r]ename: n\n"
          ],
          "name": "stdout"
        }
      ]
    },
    {
      "cell_type": "markdown",
      "metadata": {
        "id": "uLiUm3XGTiOr"
      },
      "source": [
        "Архив скачен и распаковн. Переведем изображение в градации серого, затем обрежем по заданным границам, чтобы посчитать среднюю яркость определенного участка изображения, чтобы посчитать среднюю яркость определенного участка изображения. Потом узнаем параметры вырезанного участка. В функции вернем среднее арифметическое."
      ]
    },
    {
      "cell_type": "code",
      "metadata": {
        "id": "RIsjG9rMUFJb"
      },
      "source": [
        "def average_brightness(img, left_bound, right_bound, bottom_bound, top_bound):\n",
        "  if right_bound < left_bound or top_bound < bottom_bound:\n",
        "    raise Exception('Wrong bounds!')\n",
        "  gray_image = cv2.cvtColor(img, cv2.COLOR_BGR2GRAY)\n",
        "  cropped_gray_image = gray_image[bottom_bound:top_bound, left_bound:right_bound]\n",
        "  h, w = cropped_gray_image.shape\n",
        "  denominator = h * w\n",
        "  nominator = 0\n",
        "  for i in range(h):\n",
        "    for k in range(w):\n",
        "      nominator += cropped_gray_image[i, k]\n",
        "  return nominator / denominator\n",
        "  "
      ],
      "execution_count": 7,
      "outputs": []
    },
    {
      "cell_type": "code",
      "metadata": {
        "colab": {
          "base_uri": "https://localhost:8080/"
        },
        "id": "-RF-STBcUkvf",
        "outputId": "b31de061-ca97-4d9a-e7ea-c299017c2ae7"
      },
      "source": [
        "left_bound = 80\n",
        "right_bound = 110\n",
        "bottom_bound = 1010\n",
        "top_bound = 1030\n",
        "data_dir = 'task1/'\n",
        "ev = []\n",
        "avg_brightness = []\n",
        "for filename in os.listdir(data_dir):\n",
        "  cur_ev = int(filename[0: -len('.jpg')]) - 20\n",
        "  print(f'process {cur_ev}')\n",
        "  ev.append(cur_ev)\n",
        "  image = cv2.imread(data_dir + filename)\n",
        "  avg_brightness.append(average_brightness(image, left_bound, right_bound, bottom_bound, top_bound))\n",
        "\n",
        "[ev, avg_brightness]"
      ],
      "execution_count": 8,
      "outputs": [
        {
          "output_type": "stream",
          "text": [
            "process 10\n",
            "process 13\n",
            "process -17\n",
            "process -13\n",
            "process -3\n",
            "process -7\n",
            "process -20\n",
            "process -10\n",
            "process 7\n",
            "process 17\n",
            "process 3\n",
            "process 20\n",
            "process 0\n"
          ],
          "name": "stdout"
        },
        {
          "output_type": "execute_result",
          "data": {
            "text/plain": [
              "[[10, 13, -17, -13, -3, -7, -20, -10, 7, 17, 3, 20, 0],\n",
              " [190.03833333333333,\n",
              "  172.47333333333333,\n",
              "  129.46166666666667,\n",
              "  112.59666666666666,\n",
              "  151.04166666666666,\n",
              "  150.97,\n",
              "  62.29666666666667,\n",
              "  170.08,\n",
              "  187.76833333333335,\n",
              "  195.23166666666665,\n",
              "  167.17333333333335,\n",
              "  211.15666666666667,\n",
              "  150.48833333333334]]"
            ]
          },
          "metadata": {
            "tags": []
          },
          "execution_count": 8
        }
      ]
    },
    {
      "cell_type": "code",
      "metadata": {
        "colab": {
          "base_uri": "https://localhost:8080/",
          "height": 279
        },
        "id": "-38h-okRWMFW",
        "outputId": "3accbf61-36ad-403a-d66a-17c4b49e88c4"
      },
      "source": [
        "plt.scatter(ev, avg_brightness)\n",
        "plt.xlabel('Изображения')\n",
        "plt.ylabel('Средняя яркость')\n",
        "plt.grid()"
      ],
      "execution_count": 9,
      "outputs": [
        {
          "output_type": "display_data",
          "data": {
            "image/png": "[encoded data removed]",
            "text/plain": [
              "<Figure size 432x288 with 1 Axes>"
            ]
          },
          "metadata": {
            "tags": [],
            "needs_background": "light"
          }
        }
      ]
    },
    {
      "cell_type": "code",
      "metadata": {
        "colab": {
          "base_uri": "https://localhost:8080/",
          "height": 279
        },
        "id": "D1TLe2zrWMY_",
        "outputId": "c1a6b439-5b8a-411b-96b3-0f36d4c6337c"
      },
      "source": [
        "plt.scatter(ev, np.log10(avg_brightness))\n",
        "plt.xlabel('Изображения')\n",
        "plt.ylabel('Средняя яркость log 10')\n",
        "plt.grid()"
      ],
      "execution_count": 10,
      "outputs": [
        {
          "output_type": "display_data",
          "data": {
            "image/png": "[encoded data removed]",
            "text/plain": [
              "<Figure size 432x288 with 1 Axes>"
            ]
          },
          "metadata": {
            "tags": [],
            "needs_background": "light"
          }
        }
      ]
    },
    {
      "cell_type": "markdown",
      "metadata": {
        "id": "uN_5i-W2eO42"
      },
      "source": [
        "# задание 2\n"
      ]
    },
    {
      "cell_type": "markdown",
      "metadata": {
        "id": "l3DNsvvKeWys"
      },
      "source": [
        "В методе change_saturation передаем название файла с изображением и коэффициент умножения. Изображение считывается в формате BGR в режиме 1, при котором считывается только цвет без данных о прозрачности. Потом изображение конвертируется из BGR в LAB и делится на 3 канала l, a и b. Каналы a и b домножаются на коэффициент. Однако если коэффициент будет слишком большим, то значение канала будет показывать некорректный цвет, например, розовый станет зеленым. Поэтому в цикле каждому пикселю выставляем минимум из максимально допустимого значения канала и (текущее значение * коэффициент).\n"
      ]
    },
    {
      "cell_type": "code",
      "metadata": {
        "id": "vtpA6x3-f9cv"
      },
      "source": [
        "def change_saturation(imagename, ratio=1.2):\n",
        "  bgr_image = cv2.imread(imagename, 1)\n",
        "  lab_image = cv2.cvtColor(bgr_image, cv2.COLOR_BGR2LAB)\n",
        "  l = np.array(lab_image[:, :, 0], np.float32)\n",
        "  a = np.array(lab_image[:, :, 1], np.float32)\n",
        "  b = np.array(lab_image[:, :, 2], np.float32)\n",
        "  h, w = a.shape\n",
        "  for i in range(h):\n",
        "    for k in range(w):\n",
        "      a[i, k] = min(255, a[i, k] * ratio)\n",
        "  h, w = b.shape\n",
        "  for i in range(h):\n",
        "    for k in range(w):\n",
        "      b[i, k] = min(255, b[i, k] * ratio)\n",
        "  res = cv2.merge([l, a, b])\n",
        "  res = cv2.cvtColor(res.astype('uint8'), cv2.COLOR_LAB2BGR)\n",
        "  cv2.imwrite('change_saturation_' + str(ratio) + '_' + imagename, res)\n",
        "  print('метод change saturation успешно отработал')"
      ],
      "execution_count": 41,
      "outputs": []
    },
    {
      "cell_type": "markdown",
      "metadata": {
        "id": "xoN6SKnbgGDV"
      },
      "source": [
        "В цветовом пространстве Lab значение светлоты отделено от значения хроматической составляющей цвета (тон, насыщенность). Светлота задана координатой L (изменяется от 0 до 100, то есть от самого темного до самого светлого), хроматическая составляющая — двумя декартовыми координатами a и b. Первая обозначает положение цвета в диапазоне от зеленого до пурпурного, вторая — от синего до желтого."
      ]
    },
    {
      "cell_type": "code",
      "metadata": {
        "id": "tTf-fFOSg6hw"
      },
      "source": [
        "def change_brightness(image_name, delta=50):\n",
        "  image = cv2.imread(image_name, 1)\n",
        "  lab_image = cv2.cvtColor(image, cv2.COLOR_BGR2LAB)\n",
        "  l = np.array(lab_image[:, :, 0], np.float32)\n",
        "  h, w = l.shape\n",
        "  for i in range(h):\n",
        "    for k in range(w):\n",
        "      # Если выйдем за границы 255, в некоторых местах \n",
        "      # вместо белого получим черные пятна\n",
        "      l[i, k] = min(255, l[i, k] + delta)\n",
        "  a = np.array(lab_image[:, :, 1], np.float32)\n",
        "  b = np.array(lab_image[:, :, 2], np.float32)\n",
        "  res = cv2.merge([l, a, b])\n",
        "  res = cv2.cvtColor(res.astype('uint8'), cv2.COLOR_LAB2BGR)\n",
        "  cv2.imwrite('change_brightness_' + str(delta) + '_' + image_name, res)\n",
        "  print('метод change brightness успешно отработал')\n",
        "  "
      ],
      "execution_count": 42,
      "outputs": []
    },
    {
      "cell_type": "markdown",
      "metadata": {
        "id": "NYDPck-2iuzy"
      },
      "source": [
        "В метод change_brightness также как и в предыдущий передается название изображения и и дельта, на которую изменится показатель светлоты. Изображение считывается в формате BGR в режиме 1, при котором считывается только цвет без данных о прозрачности. Потом изображение конвертируется из BGR в LAB и делится на 3 канала l, a и b. В цикле к каждому пикселю канала l прибавляется дельта. Однако так мы можем вылететь за границы допустимой светлоты и вместо белого получить черные провалы. Поэтому пикселю присвается минимум из (текущее значение + дельта) и максимально допустимого значения светлоты. Потом массивы каналов сливаются в \"единое\" изображение и конвертируются обратно в BGR.\n"
      ]
    },
    {
      "cell_type": "code",
      "metadata": {
        "colab": {
          "base_uri": "https://localhost:8080/"
        },
        "id": "LmwVKSjbixSr",
        "outputId": "9eff068d-a952-4f44-dfa8-59d008897cbb"
      },
      "source": [
        "auth.authenticate_user()\n",
        "drive_service = build('drive', 'v3')\n",
        "\n",
        "file_id_for_saturation = '1cTJ7qZ9f9TB-5nG02l9myiubJko3ftmf'\n",
        "file_name_for_saturation = 'ph1.jpg'\n",
        "\n",
        "file_id_for_brightness = '1UeCxAyl9sWRZc-fU0WMoCPIaW4cDIXUH'\n",
        "file_name_for_brightness = 'ph2.jpg'\n",
        "\n",
        "download_data(file_id_for_saturation, file_name_for_saturation)\n",
        "download_data(file_id_for_brightness, file_name_for_brightness)\n",
        "\n",
        "\n",
        "\n",
        "change_saturation('ph1.jpg', 1.3)\n",
        "change_brightness('ph2.jpg', 80)"
      ],
      "execution_count": 59,
      "outputs": [
        {
          "output_type": "stream",
          "text": [
            "метод change saturation успешно отработал\n",
            "метод change brightness успешно отработал\n"
          ],
          "name": "stdout"
        }
      ]
    },
    {
      "cell_type": "markdown",
      "metadata": {
        "id": "AWDppidlp70R"
      },
      "source": [
        "# задание 3"
      ]
    },
    {
      "cell_type": "markdown",
      "metadata": {
        "id": "aP-57VWvqF_x"
      },
      "source": [
        "Список заданий для выполнения над изображением:\n",
        "\n",
        "Выравнивание гистограммы;\n",
        "Локальное выравнивание гистограммы;\n",
        "Гауссовское размытие;\n",
        "Фильтры Собеля и Лапласа;\n",
        "Блендинг через альфа канал.\n",
        "В архиве task3 хранятся мои изображения"
      ]
    },
    {
      "cell_type": "markdown",
      "metadata": {
        "id": "4951IfhLH5co"
      },
      "source": [
        "1. Выравнивание гистограммы. Чтобы не потерять цвет, переводим изображение из BGR в YUV, применяем equalizeHist к третьему каналу и конвертируем изображение обратно в BGR."
      ]
    },
    {
      "cell_type": "code",
      "metadata": {
        "id": "zPjx5ZzZqHOP"
      },
      "source": [
        "def place_to_root(path):\n",
        "  return os.path.basename(path) #функция вспомогательная, для хранения даннных в корневой папке\n",
        "\n",
        "def equalizeHistFunction(image_name):\n",
        "  image = cv2.imread(image_name)\n",
        "  image_yuv = cv2.cvtColor(image, cv2.COLOR_BGR2YUV)\n",
        "  image_yuv[:,:,0] = cv2.equalizeHist(image_yuv[:, :, 0])\n",
        "  res = cv2.cvtColor(image_yuv, cv2.COLOR_YUV2BGR)\n",
        "  cv2.imwrite('equalizeHistFunction ' + image_name, res)\n",
        "\n",
        "equalizeHistFunction(place_to_root('content/ph1.jpg'))\n",
        "equalizeHistFunction(place_to_root('content/ph2.jpg'))"
      ],
      "execution_count": 44,
      "outputs": []
    },
    {
      "cell_type": "markdown",
      "metadata": {
        "id": "W-iTZbvbOamb"
      },
      "source": [
        "2. Локальное выравнивание гистограммы. CLAHE (Contrast Limited Adaptive Histogram Equalization) делит изображение на небольшие части и выравнивает гистограммы отдельно на каждом участке, что позволяет добиться более ровного изображения, без пересветов."
      ]
    },
    {
      "cell_type": "code",
      "metadata": {
        "id": "esBI0OztOdyP"
      },
      "source": [
        "def claheFunction(image_name, tile_size=(8, 8)):\n",
        "  image = cv2.imread(image_name)\n",
        "  image_yuv = cv2.cvtColor(image, cv2.COLOR_BGR2YUV)\n",
        "  clahe = cv2.createCLAHE(clipLimit=2.0, tileGridSize=tile_size)\n",
        "  image_yuv[:, :, 0] = clahe.apply(image_yuv[:, :, 0])\n",
        "  res = cv2.cvtColor(image_yuv, cv2.COLOR_YUV2BGR)\n",
        "  cv2.imwrite('claheFunction' + str(tile_size[0]) + '_' + str(tile_size[1]) + '_' + image_name, res)\n",
        "\n",
        "claheFunction(place_to_root('content/ph1.jpg'))\n",
        "claheFunction(place_to_root('content/ph2.jpg'))"
      ],
      "execution_count": 45,
      "outputs": []
    },
    {
      "cell_type": "markdown",
      "metadata": {
        "id": "C4VI4HItPfXV"
      },
      "source": [
        "3. Гаусовское размытие. Указываем ширину и высоту ядра Гауссианы, числа должны быть позитивными и нечетными."
      ]
    },
    {
      "cell_type": "code",
      "metadata": {
        "id": "ZWPGwiBnPgwK"
      },
      "source": [
        "def gaussianFuncBlur(image_name, kernel_size=21):\n",
        "    image = cv2.imread(image_name)\n",
        "    res = cv2.GaussianBlur(image, (kernel_size, kernel_size), sigmaX=0)\n",
        "    cv2.imwrite('gaussianFuncBlur' + str(kernel_size) + '_' + image_name, res)\n",
        "\n",
        "gaussianFuncBlur(place_to_root('content/ph1.jpg'))\n",
        "gaussianFuncBlur(place_to_root('content/ph2.jpg'))"
      ],
      "execution_count": 46,
      "outputs": []
    },
    {
      "cell_type": "markdown",
      "metadata": {
        "id": "C2Pvxy0LRsTb"
      },
      "source": [
        "4. Фильтр Собеля и Лапласа. Для фильтра Собеля возьмем способ поиска производной по х."
      ]
    },
    {
      "cell_type": "markdown",
      "metadata": {
        "id": "-_USE7A_jUcn"
      },
      "source": [
        ""
      ]
    },
    {
      "cell_type": "code",
      "metadata": {
        "id": "qSv6MScWRttu"
      },
      "source": [
        "def sobel_x(image_name):\n",
        "  image = cv2.imread(image_name, 0)\n",
        "  res = cv2.Sobel(image, cv2.CV_64F, 1, 0, ksize=5)\n",
        "  cv2.imwrite('sobel_x_' + image_name, res)\n",
        "\n",
        "\n",
        "def sobel_y(image_name):\n",
        "  image = cv2.imread(image_name, 0)\n",
        "  res = cv2.Sobel(image, cv2.CV_64F, 0, 1, ksize=5)\n",
        "  cv2.imwrite('sobel_y_' + image_name, res)\n",
        "\n",
        "\n",
        "def laplas(image_name):\n",
        "  image = cv2.imread(image_name, 0)\n",
        "  res = cv2.Laplacian(image, cv2.CV_64F)\n",
        "  cv2.imwrite('laplas_' + image_name, res)\n",
        "    \n",
        "\n",
        "laplas(place_to_root('content/ph1.jpg'))\n",
        "laplas(place_to_root('content/ph2.jpg'))\n",
        "sobel_x(place_to_root('content/ph1.jpg'))\n",
        "sobel_x(place_to_root('content/ph2.jpg'))\n"
      ],
      "execution_count": 47,
      "outputs": []
    },
    {
      "cell_type": "markdown",
      "metadata": {
        "id": "C62fIZ1BSm5I"
      },
      "source": [
        "5. Блендинг через альфа канал."
      ]
    },
    {
      "cell_type": "code",
      "metadata": {
        "id": "QUL8F4K_SpR-"
      },
      "source": [
        "def alpha_blending(foreground_image_name, background_image_name, alpha_mask_image_name):\n",
        "  foreground = cv2.imread(foreground_image_name)\n",
        "  background = cv2.imread(background_image_name)\n",
        "  alpha = cv2.imread(alpha_mask_image_name)\n",
        "  foreground = foreground.astype(float)\n",
        "  background = background.astype(float)\n",
        "  alpha = alpha.astype(float)/255\n",
        "  foreground = cv2.multiply(alpha, foreground)\n",
        "  background = cv2.multiply(1.0 - alpha, background)\n",
        "  res = cv2.add(foreground, background)\n",
        "  cv2.imwrite('alpha_blending_' + \n",
        "              foreground_image_name + '_' + \n",
        "              background_image_name + '_' + \n",
        "              alpha_mask_image_name + '.jpg', res)\n",
        "\n",
        "\n",
        "alpha_blending('ph1.jpg','ph2.jpg','ph1.jpg')"
      ],
      "execution_count": 48,
      "outputs": []
    },
    {
      "cell_type": "markdown",
      "metadata": {
        "id": "IdlsMBZXVo7I"
      },
      "source": [
        "# задание 4"
      ]
    },
    {
      "cell_type": "markdown",
      "metadata": {
        "id": "ZM2qNlPHVw8R"
      },
      "source": [
        "В пирамиде Гаусса последующие изображения уменьшаются с использованием среднего значения по Гауссу ( размытие по Гауссу ) и уменьшаются в масштабе. Каждый пиксель, содержащий локальное среднее значение, соответствует пикселю соседства на нижнем уровне пирамиды. Этот метод особенно используется при синтезе текстур.\n",
        "\n",
        "Пирамида Лапласа очень похожа на пирамиду Гаусса, но сохраняет различие размытых версий между каждым уровнем. Только наименьший уровень не является разностным изображением, чтобы можно было реконструировать изображение с высоким разрешением с использованием разностных изображений на более высоких уровнях. Этот метод можно использовать при сжатии изображений."
      ]
    },
    {
      "cell_type": "code",
      "metadata": {
        "id": "pQ066rkgV2ji"
      },
      "source": [
        "def blending(image_name_1, image_name_2, height=6):\n",
        "    A = cv2.imread(image_name_1)\n",
        "    B = cv2.imread(image_name_2)\n",
        "\n",
        "    # пирамида Гаусса для A\n",
        "    G = A.copy()\n",
        "    gpA = [G]\n",
        "    for i in range(height):\n",
        "        G = cv2.pyrDown(G)\n",
        "        gpA.append(G)\n",
        "\n",
        "    # пирамида Гаусса для B\n",
        "    G = B.copy()\n",
        "    gpB = [G]\n",
        "    for i in range(height):\n",
        "        G = cv2.pyrDown(G)\n",
        "        gpB.append(G)\n",
        "\n",
        "    # пирамида Лапласа для A\n",
        "    lpA = [gpA[height - 1]]\n",
        "    for i in range(height - 1, 0, -1):\n",
        "        GE = cv2.pyrUp(gpA[i])\n",
        "        rows, cols, _ = gpA[i - 1].shape\n",
        "        GE = GE[:rows, :cols]\n",
        "        L = cv2.subtract(gpA[i - 1], GE)\n",
        "        lpA.append(L)\n",
        "\n",
        "    # пирамида Лапласа для B\n",
        "    lpB = [gpB[height - 1]]\n",
        "    for i in range(height - 1, 0, -1):\n",
        "        GE = cv2.pyrUp(gpB[i])\n",
        "        rows, cols, _ = gpB[i - 1].shape\n",
        "        GE = GE[:rows, :cols]\n",
        "        L = cv2.subtract(gpB[i - 1], GE)\n",
        "        lpB.append(L)\n",
        "\n",
        "    # соединяем левые и правые части на каждом уровне пирамид\n",
        "    LS = []\n",
        "    for la, lb in zip(lpA, lpB):\n",
        "        _, cols, _ = la.shape\n",
        "        ls = np.hstack((la[:, :int(cols / 2)], lb[:, int(cols / 2):]))\n",
        "        LS.append(ls)\n",
        "\n",
        "    ls_ = LS[0]\n",
        "    for i in range(1, height):\n",
        "        ls_ = cv2.pyrUp(ls_)\n",
        "        rows, cols, _ = LS[i].shape\n",
        "        ls_ = ls_[:rows, :cols]\n",
        "        ls_ = cv2.add(ls_, LS[i])\n",
        "\n",
        "    # объединение двух половин без блендинга\n",
        "    real = np.hstack((A[:, :int(cols / 2)], B[:, int(cols / 2):]))\n",
        "\n",
        "    cv2.imwrite('pyramid_blending_' + str(height) + '.jpg', ls_)\n",
        "    cv2.imwrite('direct_blending.jpg', real)\n",
        "\n",
        "\n",
        "blending(place_to_root('content/ph1.jpg'), place_to_root('content/ph2.jpg'), height = 16)"
      ],
      "execution_count": 49,
      "outputs": []
    },
    {
      "cell_type": "markdown",
      "metadata": {
        "id": "VU8PCvOoWxpb"
      },
      "source": [
        "# задание 5"
      ]
    },
    {
      "cell_type": "markdown",
      "metadata": {
        "id": "Q0QWRLs7W2Nr"
      },
      "source": [
        "Каскады Хаара – наборы масок, прямоугольных окошек, каждое из которых представляет собой изображение с неким черно-белым узором (комбинацией черных и белых частей). Таких масок может быть неограниченное множество, сложность узоров может также разниться"
      ]
    },
    {
      "cell_type": "code",
      "metadata": {
        "colab": {
          "base_uri": "https://localhost:8080/"
        },
        "id": "yXyOYhNZW_6E",
        "outputId": "b7e3bee5-a7a8-45d5-b0eb-6a5b9e3b0f2d"
      },
      "source": [
        "!find / -depth -maxdepth 100 -type d -name 'cv2'\n",
        "haar_path = '/usr/local/lib/python3.7/dist-packages/cv2/data/'\n",
        "haar_cascade = 'haarcascade_frontalface_default.xml'"
      ],
      "execution_count": 50,
      "outputs": [
        {
          "output_type": "stream",
          "text": [
            "/usr/local/lib/python3.7/dist-packages/cv2\n",
            "/usr/local/lib/python2.7/dist-packages/cv2\n",
            "find: ‘/proc/191/task/191/net’: Invalid argument\n",
            "find: ‘/proc/191/net’: Invalid argument\n",
            "/tensorflow-1.15.2/python2.7/cv2\n"
          ],
          "name": "stdout"
        }
      ]
    },
    {
      "cell_type": "markdown",
      "metadata": {
        "id": "Zy9cGNsrY-jS"
      },
      "source": [
        "На вход подается путь к изображению и путь к xml-файлу с каскадом Хаара. Считываем изображение, переводим его в градации серого, и запускаем поиск лиц с помощью detectMultiScale — общая функция для распознавания как лиц, так и объектов. Чтобы функция искала именно лица, мы передаём ей соответствующий каскад.\n",
        "\n",
        "Функция detectMultiScale принимает 4 параметра:\n",
        "\n",
        "Обрабатываемое изображение в градации серого.\n",
        "\n",
        "scaleFactor компенсирует перспективу, потому что некоторые лица могут быть больше других, поскольку находятся ближе, чем остальные.\n",
        "\n",
        "minNeighbors определяет количество объектов вокруг лица. Чем больше значение этого параметра, тем больше аналогичных объектов необходимо алгоритму, чтобы он определил текущий объект, как лицо. Слишком маленькое значение увеличит количество ложных срабатываний, а слишком большое сделает алгоритм более требовательным.\n",
        "\n",
        "minSize определяет непосредственно размер областей. Затем обводим распознанные лица рамкой и сохраняем изображение."
      ]
    },
    {
      "cell_type": "code",
      "metadata": {
        "id": "ee1MtqtvZF9y"
      },
      "source": [
        "def haar_function(image_name, \n",
        "         cascade_path, \n",
        "         scale_factor=1.1, \n",
        "         min_neighbors=5, \n",
        "         min_size=(10, 10)):\n",
        "  cascade = cv2.CascadeClassifier(cascade_path)\n",
        "  image = cv2.imread(image_name)\n",
        "  gray = cv2.cvtColor(image, cv2.COLOR_BGR2GRAY)\n",
        "  detected = cascade.detectMultiScale(\n",
        "      gray,\n",
        "      scaleFactor=scale_factor,\n",
        "      minNeighbors=min_neighbors,\n",
        "      minSize=min_size)\n",
        "  print('На картинке обнаружено :', str(len(detected)))\n",
        "  for (x, y, w, h) in detected:\n",
        "      cv2.rectangle(image, (x, y), (x + w, y + h), (255, 0, 0), 2)\n",
        "  cv2.imwrite('haar_' + \n",
        "              str(scale_factor) + '_' + \n",
        "              str(min_neighbors) + '_' + \n",
        "              str(min_size) + '_' + image_name, image)"
      ],
      "execution_count": 51,
      "outputs": []
    },
    {
      "cell_type": "code",
      "metadata": {
        "id": "bRhJN6_MgIHJ"
      },
      "source": [
        "file_id_for_1 = '1GKkO7UyBXFAoRm9DsgOyBBd5t0QYXv2O'\n",
        "file_name_for_1 = '1.jpg'\n",
        "download_data(file_id_for_1, file_name_for_1)\n",
        "file_id_for_2 = '17LyfpYRjLxdC_4GbX7lBrML5uuJsYhra'\n",
        "file_name_for_2 = '2.jpg'\n",
        "download_data(file_id_for_2, file_name_for_2)\n",
        "file_id_for_3 = '1ju-EmubGvw3aCe2CGq0D-mFzAhUSwHYT'\n",
        "file_name_for_3 = '3.jpg'\n",
        "download_data(file_id_for_3, file_name_for_3)"
      ],
      "execution_count": 60,
      "outputs": []
    },
    {
      "cell_type": "code",
      "metadata": {
        "colab": {
          "base_uri": "https://localhost:8080/"
        },
        "id": "hwfqC_1NZOVA",
        "outputId": "222e2301-7826-412b-f484-ef2311ff5ff4"
      },
      "source": [
        "haar_function('3.jpg', haar_path + haar_cascade)"
      ],
      "execution_count": 73,
      "outputs": [
        {
          "output_type": "stream",
          "text": [
            "На картинке обнаружено : 2\n"
          ],
          "name": "stdout"
        }
      ]
    },
    {
      "cell_type": "code",
      "metadata": {
        "colab": {
          "base_uri": "https://localhost:8080/"
        },
        "id": "Ka2oTOXzZUQP",
        "outputId": "30568a8c-a5c0-42a2-d859-20048baf6fa9"
      },
      "source": [
        "haar_function('1.jpg', haar_path + haar_cascade, scale_factor=1.2, min_size=(150, 150), min_neighbors=5)"
      ],
      "execution_count": 70,
      "outputs": [
        {
          "output_type": "stream",
          "text": [
            "На картинке обнаружено : 2\n"
          ],
          "name": "stdout"
        }
      ]
    },
    {
      "cell_type": "code",
      "metadata": {
        "colab": {
          "base_uri": "https://localhost:8080/"
        },
        "id": "EAjQb_x-ZYnb",
        "outputId": "1606dcea-6d6f-451d-e526-0b93c12842f8"
      },
      "source": [
        "haar_function('2.jpg', haar_path + haar_cascade, scale_factor=1.3, min_neighbors=2)"
      ],
      "execution_count": 71,
      "outputs": [
        {
          "output_type": "stream",
          "text": [
            "На картинке обнаружено : 16\n"
          ],
          "name": "stdout"
        }
      ]
    },
    {
      "cell_type": "markdown",
      "metadata": {
        "id": "Uj0PzH6ehvar"
      },
      "source": [
        "# задание 6"
      ]
    },
    {
      "cell_type": "markdown",
      "metadata": {
        "id": "sNaq7bzKh2IO"
      },
      "source": [
        "Метод Transfer Learning на примере распознавания изображений с мебелью.\n",
        "\n",
        "Если перед нами встает задача распознавания изображений, можно воспользоваться готовым сервисом. Однако, если нужно обучить модель на собственном наборе данных, то придется делать это самостоятельно.\n",
        "\n",
        "Для таких типовых задач, как классификация изображений, можно воспользоваться готовой архитектурой (AlexNet, VGG, Inception, ResNet и т.д.) и обучить нейросеть на своих данных. Реализации таких сетей с помощью различных фреймворков уже существуют, так что на данном этапе можно использовать одну из них как черный ящик, не вникая глубоко в принцип её работы.\n",
        "\n",
        "Однако, глубокие нейронные сети требовательны к большим объемам данных для сходимости обучения. И зачастую в нашей частной задаче недостаточно данных для того, чтобы хорошо натренировать все слои нейросети. Transfer Learning решает эту проблему."
      ]
    },
    {
      "cell_type": "code",
      "metadata": {
        "colab": {
          "base_uri": "https://localhost:8080/"
        },
        "id": "xaA0qXkvh299",
        "outputId": "d77415c4-250b-48ed-d7bd-4a1bf8600202"
      },
      "source": [
        "!pip install albumentations"
      ],
      "execution_count": 86,
      "outputs": [
        {
          "output_type": "stream",
          "text": [
            "n\n",
            "Requirement already satisfied: albumentations in /usr/local/lib/python3.7/dist-packages (0.1.12)\n",
            "Requirement already satisfied: opencv-python in /usr/local/lib/python3.7/dist-packages (from albumentations) (4.1.2.30)\n",
            "Requirement already satisfied: numpy>=1.11.1 in /usr/local/lib/python3.7/dist-packages (from albumentations) (1.19.5)\n",
            "Requirement already satisfied: imgaug<0.2.7,>=0.2.5 in /usr/local/lib/python3.7/dist-packages (from albumentations) (0.2.6)\n",
            "Requirement already satisfied: scipy in /usr/local/lib/python3.7/dist-packages (from albumentations) (1.4.1)\n",
            "Requirement already satisfied: scikit-image>=0.11.0 in /usr/local/lib/python3.7/dist-packages (from imgaug<0.2.7,>=0.2.5->albumentations) (0.16.2)\n",
            "Requirement already satisfied: six in /usr/local/lib/python3.7/dist-packages (from imgaug<0.2.7,>=0.2.5->albumentations) (1.15.0)\n",
            "Requirement already satisfied: pillow>=4.3.0 in /usr/local/lib/python3.7/dist-packages (from scikit-image>=0.11.0->imgaug<0.2.7,>=0.2.5->albumentations) (7.1.2)\n",
            "Requirement already satisfied: matplotlib!=3.0.0,>=2.0.0 in /usr/local/lib/python3.7/dist-packages (from scikit-image>=0.11.0->imgaug<0.2.7,>=0.2.5->albumentations) (3.2.2)\n",
            "Requirement already satisfied: PyWavelets>=0.4.0 in /usr/local/lib/python3.7/dist-packages (from scikit-image>=0.11.0->imgaug<0.2.7,>=0.2.5->albumentations) (1.1.1)\n",
            "Requirement already satisfied: networkx>=2.0 in /usr/local/lib/python3.7/dist-packages (from scikit-image>=0.11.0->imgaug<0.2.7,>=0.2.5->albumentations) (2.5.1)\n",
            "Requirement already satisfied: imageio>=2.3.0 in /usr/local/lib/python3.7/dist-packages (from scikit-image>=0.11.0->imgaug<0.2.7,>=0.2.5->albumentations) (2.4.1)\n",
            "Requirement already satisfied: python-dateutil>=2.1 in /usr/local/lib/python3.7/dist-packages (from matplotlib!=3.0.0,>=2.0.0->scikit-image>=0.11.0->imgaug<0.2.7,>=0.2.5->albumentations) (2.8.1)\n",
            "Requirement already satisfied: cycler>=0.10 in /usr/local/lib/python3.7/dist-packages (from matplotlib!=3.0.0,>=2.0.0->scikit-image>=0.11.0->imgaug<0.2.7,>=0.2.5->albumentations) (0.10.0)\n",
            "Requirement already satisfied: kiwisolver>=1.0.1 in /usr/local/lib/python3.7/dist-packages (from matplotlib!=3.0.0,>=2.0.0->scikit-image>=0.11.0->imgaug<0.2.7,>=0.2.5->albumentations) (1.3.1)\n",
            "Requirement already satisfied: pyparsing!=2.0.4,!=2.1.2,!=2.1.6,>=2.0.1 in /usr/local/lib/python3.7/dist-packages (from matplotlib!=3.0.0,>=2.0.0->scikit-image>=0.11.0->imgaug<0.2.7,>=0.2.5->albumentations) (2.4.7)\n",
            "Requirement already satisfied: decorator<5,>=4.3 in /usr/local/lib/python3.7/dist-packages (from networkx>=2.0->scikit-image>=0.11.0->imgaug<0.2.7,>=0.2.5->albumentations) (4.4.2)\n"
          ],
          "name": "stdout"
        }
      ]
    },
    {
      "cell_type": "code",
      "metadata": {
        "id": "S6wN3RqpxJyp"
      },
      "source": [
        ""
      ],
      "execution_count": null,
      "outputs": []
    },
    {
      "cell_type": "code",
      "metadata": {
        "colab": {
          "base_uri": "https://localhost:8080/"
        },
        "id": "eWkuBfRoiQoA",
        "outputId": "e3c11540-2557-47b6-fd23-0fafbfb7b3be"
      },
      "source": [
        "def download_data(file_id, file_name):\n",
        "  import io\n",
        "  from googleapiclient.http import MediaIoBaseDownload\n",
        "\n",
        "  request = drive_service.files().get_media(fileId=file_id)\n",
        "  downloaded = io.BytesIO()\n",
        "  downloader = MediaIoBaseDownload(downloaded, request)\n",
        "  done = False\n",
        "  while done is False:\n",
        "    _, done = downloader.next_chunk()\n",
        "    \n",
        "  downloaded.seek(0)\n",
        "  with open(file_name, 'wb') as f:\n",
        "    f.write(downloaded.read())\n",
        "  \n",
        "auth.authenticate_user()\n",
        "drive_service = build('drive', 'v3')\n",
        "\n",
        "\n",
        "file_id = '1IyU2wPwKlrjVgKI4wejg849PssnUR4ZG'\n",
        "file_name = 'task6.zip'\n",
        "\n",
        "download_data(file_id, file_name)\n",
        "!unzip task6.zip"
      ],
      "execution_count": 94,
      "outputs": [
        {
          "output_type": "stream",
          "text": [
            "Archive:  task6.zip\n",
            "   creating: pet/cat/\n",
            "  inflating: pet/cat/cat.0.jpg       \n",
            "  inflating: pet/cat/cat.1.jpg       \n",
            "  inflating: pet/cat/cat.10.jpg      \n",
            "  inflating: pet/cat/cat.11.jpg      \n",
            "  inflating: pet/cat/cat.12.jpg      \n",
            "  inflating: pet/cat/cat.13.jpg      \n",
            "  inflating: pet/cat/cat.14.jpg      \n",
            "  inflating: pet/cat/cat.15.jpg      \n",
            "  inflating: pet/cat/cat.16.jpg      \n",
            "  inflating: pet/cat/cat.17.jpg      \n",
            "  inflating: pet/cat/cat.18.jpg      \n",
            "  inflating: pet/cat/cat.19.jpg      \n",
            "  inflating: pet/cat/cat.2.jpg       \n",
            "  inflating: pet/cat/cat.20.jpg      \n",
            "  inflating: pet/cat/cat.21.jpg      \n",
            "  inflating: pet/cat/cat.22.jpg      \n",
            "  inflating: pet/cat/cat.23.jpg      \n",
            "  inflating: pet/cat/cat.24.jpg      \n",
            "  inflating: pet/cat/cat.25.jpg      \n",
            "  inflating: pet/cat/cat.26.jpg      \n",
            "  inflating: pet/cat/cat.27.jpg      \n",
            "  inflating: pet/cat/cat.28.jpg      \n",
            "  inflating: pet/cat/cat.29.jpg      \n",
            "  inflating: pet/cat/cat.3.jpg       \n",
            "  inflating: pet/cat/cat.30.jpg      \n",
            "  inflating: pet/cat/cat.31.jpg      \n",
            "  inflating: pet/cat/cat.32.jpg      \n",
            "  inflating: pet/cat/cat.33.jpg      \n",
            "  inflating: pet/cat/cat.34.jpg      \n",
            "  inflating: pet/cat/cat.35.jpg      \n",
            "  inflating: pet/cat/cat.36.jpg      \n",
            "  inflating: pet/cat/cat.37.jpg      \n",
            "  inflating: pet/cat/cat.38.jpg      \n",
            "  inflating: pet/cat/cat.39.jpg      \n",
            "  inflating: pet/cat/cat.4.jpg       \n",
            "  inflating: pet/cat/cat.40.jpg      \n",
            "  inflating: pet/cat/cat.41.jpg      \n",
            "  inflating: pet/cat/cat.42.jpg      \n",
            "  inflating: pet/cat/cat.43.jpg      \n",
            "  inflating: pet/cat/cat.44.jpg      \n",
            "  inflating: pet/cat/cat.45.jpg      \n",
            "  inflating: pet/cat/cat.46.jpg      \n",
            "  inflating: pet/cat/cat.47.jpg      \n",
            "  inflating: pet/cat/cat.48.jpg      \n",
            "  inflating: pet/cat/cat.49.jpg      \n",
            "  inflating: pet/cat/cat.5.jpg       \n",
            "  inflating: pet/cat/cat.50.jpg      \n",
            "  inflating: pet/cat/cat.51.jpg      \n",
            "  inflating: pet/cat/cat.52.jpg      \n",
            "  inflating: pet/cat/cat.53.jpg      \n",
            "  inflating: pet/cat/cat.54.jpg      \n",
            "  inflating: pet/cat/cat.55.jpg      \n",
            "  inflating: pet/cat/cat.6.jpg       \n",
            "  inflating: pet/cat/cat.7.jpg       \n",
            "  inflating: pet/cat/cat.8.jpg       \n",
            "  inflating: pet/cat/cat.9.jpg       \n",
            "   creating: pet/dog/\n",
            "  inflating: pet/dog/dog.12434.jpg   \n",
            "  inflating: pet/dog/dog.12435.jpg   \n",
            "  inflating: pet/dog/dog.12436.jpg   \n",
            "  inflating: pet/dog/dog.12437.jpg   \n",
            "  inflating: pet/dog/dog.12438.jpg   \n",
            "  inflating: pet/dog/dog.12439.jpg   \n",
            "  inflating: pet/dog/dog.12440.jpg   \n",
            "  inflating: pet/dog/dog.12441.jpg   \n",
            "  inflating: pet/dog/dog.12442.jpg   \n",
            "  inflating: pet/dog/dog.12443.jpg   \n",
            "  inflating: pet/dog/dog.12444.jpg   \n",
            "  inflating: pet/dog/dog.12445.jpg   \n",
            "  inflating: pet/dog/dog.12446.jpg   \n",
            "  inflating: pet/dog/dog.12447.jpg   \n",
            "  inflating: pet/dog/dog.12448.jpg   \n",
            "  inflating: pet/dog/dog.12449.jpg   \n",
            "  inflating: pet/dog/dog.12450.jpg   \n",
            "  inflating: pet/dog/dog.12451.jpg   \n",
            "  inflating: pet/dog/dog.12452.jpg   \n",
            "  inflating: pet/dog/dog.12453.jpg   \n",
            "  inflating: pet/dog/dog.12454.jpg   \n",
            "  inflating: pet/dog/dog.12455.jpg   \n",
            "  inflating: pet/dog/dog.12456.jpg   \n",
            "  inflating: pet/dog/dog.12457.jpg   \n",
            "  inflating: pet/dog/dog.12458.jpg   \n",
            "  inflating: pet/dog/dog.12459.jpg   \n",
            "  inflating: pet/dog/dog.12460.jpg   \n",
            "  inflating: pet/dog/dog.12461.jpg   \n",
            "  inflating: pet/dog/dog.12462.jpg   \n",
            "  inflating: pet/dog/dog.12463.jpg   \n",
            "  inflating: pet/dog/dog.12464.jpg   \n",
            "  inflating: pet/dog/dog.12465.jpg   \n",
            "  inflating: pet/dog/dog.12466.jpg   \n",
            "  inflating: pet/dog/dog.12467.jpg   \n",
            "  inflating: pet/dog/dog.12468.jpg   \n",
            "  inflating: pet/dog/dog.12469.jpg   \n",
            "  inflating: pet/dog/dog.12470.jpg   \n",
            "  inflating: pet/dog/dog.12471.jpg   \n",
            "  inflating: pet/dog/dog.12472.jpg   \n",
            "  inflating: pet/dog/dog.12473.jpg   \n",
            "  inflating: pet/dog/dog.12474.jpg   \n",
            "  inflating: pet/dog/dog.12475.jpg   \n",
            "  inflating: pet/dog/dog.12476.jpg   \n",
            "  inflating: pet/dog/dog.12477.jpg   \n",
            "  inflating: pet/dog/dog.12478.jpg   \n",
            "  inflating: pet/dog/dog.12479.jpg   \n",
            "  inflating: pet/dog/dog.12480.jpg   \n",
            "  inflating: pet/dog/dog.12481.jpg   \n",
            "  inflating: pet/dog/dog.12482.jpg   \n",
            "  inflating: pet/dog/dog.12483.jpg   \n",
            "  inflating: pet/dog/dog.12484.jpg   \n",
            "  inflating: pet/dog/dog.12485.jpg   \n",
            "  inflating: pet/dog/dog.12486.jpg   \n",
            "  inflating: pet/dog/dog.12487.jpg   \n",
            "  inflating: pet/dog/dog.12488.jpg   \n",
            "  inflating: pet/dog/dog.12489.jpg   \n",
            "   creating: pet/sl/\n",
            "  inflating: pet/sl/sl.1.jpg         \n",
            "  inflating: pet/sl/sl.10.jpg        \n",
            "  inflating: pet/sl/sl.11.jpg        \n",
            "  inflating: pet/sl/sl.12.jpg        \n",
            "  inflating: pet/sl/sl.13.jpg        \n",
            "  inflating: pet/sl/sl.14.jpg        \n",
            "  inflating: pet/sl/sl.15.jpg        \n",
            "  inflating: pet/sl/sl.16.jpg        \n",
            "  inflating: pet/sl/sl.17.jpg        \n",
            "  inflating: pet/sl/sl.18.jpg        \n",
            "  inflating: pet/sl/sl.19.jpg        \n",
            "  inflating: pet/sl/sl.2.jpg         \n",
            "  inflating: pet/sl/sl.20.jpg        \n",
            "  inflating: pet/sl/sl.3.jpg         \n",
            "  inflating: pet/sl/sl.4.jpg         \n",
            "  inflating: pet/sl/sl.5.jpg         \n",
            "  inflating: pet/sl/sl.6.jpg         \n",
            "  inflating: pet/sl/sl.7.jpg         \n",
            "  inflating: pet/sl/sl.8.jpg         \n",
            "  inflating: pet/sl/sl.9.jpg         \n"
          ],
          "name": "stdout"
        }
      ]
    },
    {
      "cell_type": "code",
      "metadata": {
        "colab": {
          "base_uri": "https://localhost:8080/"
        },
        "id": "ariyfKKtvceD",
        "outputId": "4cbe8885-db95-4eee-9acd-1c69cc38e386"
      },
      "source": [
        "filenames = []\n",
        "labels = []\n",
        "path = 'pet'\n",
        "for idx, class_dir in enumerate(os.listdir('pet')):\n",
        "  print(f\"берем файлы из папки \\\"{class_dir}\\\" и даем им класс {idx}\")\n",
        "  \n",
        "  # не берем файлы кроме .jpg .jpeg и .png\n",
        "  for file in os.listdir(os.path.join('pet', class_dir)):\n",
        "    if not file.endswith(('.jpg', '.jpeg', '.png')):\n",
        "      continue\n",
        "      \n",
        "    filenames.append(os.path.join('pet', class_dir, file))\n",
        "    labels.append(idx)"
      ],
      "execution_count": 95,
      "outputs": [
        {
          "output_type": "stream",
          "text": [
            "берем файлы из папки \"cat\" и даем им класс 0\n",
            "берем файлы из папки \"dog\" и даем им класс 1\n",
            "берем файлы из папки \"sl\" и даем им класс 2\n"
          ],
          "name": "stdout"
        }
      ]
    },
    {
      "cell_type": "markdown",
      "metadata": {
        "id": "HyuywbFN3qkL"
      },
      "source": [
        "Разбиваем датасет на тренировочную и тестовую выборки в отношении 80/20. Функция add_pad служит для добавления полей к изображениям, чтобы привести их к квадратному формату.\n",
        "\n",
        "Функция resize меняет разрешение изображения.\n",
        "\n",
        "Функция transform_album применяет аугментации к изображению."
      ]
    },
    {
      "cell_type": "code",
      "metadata": {
        "id": "LST_UL9b3rgv"
      },
      "source": [
        "train_filenames, test_filenames, train_labels, test_labels = train_test_split(filenames, labels, test_size=0.2, random_state=42)\n",
        "\n",
        "def add_pad(img, shape):\n",
        "    color_pick = img[0][0]\n",
        "    padded_img = color_pick * np.ones(shape + img.shape[2:3], dtype=np.uint8)\n",
        "    x_offset = int((padded_img.shape[0] - img.shape[0]) / 2)\n",
        "    y_offset = int((padded_img.shape[1] - img.shape[1]) / 2)\n",
        "    padded_img[x_offset:x_offset + img.shape[0], y_offset:y_offset + img.shape[1]] = img\n",
        "    return padded_img\n",
        "\n",
        "\n",
        "def resize(img, shape):\n",
        "    scale = min(shape[0] * 1.0 / img.shape[0], shape[1] * 1.0 / img.shape[1])\n",
        "    if scale != 1:\n",
        "        img = cv2.resize(img, dsize=None, fx=scale, fy=scale, interpolation=cv2.INTER_LINEAR)\n",
        "    return img\n",
        "\n",
        "\n",
        "def transform_album(image):\n",
        "  transform = A.Compose([\n",
        "        A.RandomRotate90(),\n",
        "        A.Flip(),\n",
        "        A.Transpose(),\n",
        "        A.OneOf([\n",
        "            A.IAAAdditiveGaussianNoise(),\n",
        "            A.GaussNoise(),\n",
        "        ], p=0.2),\n",
        "        A.OneOf([\n",
        "            A.MotionBlur(p=.2),\n",
        "            A.MedianBlur(blur_limit=3, p=0.1),\n",
        "            A.Blur(blur_limit=3, p=0.1),\n",
        "        ], p=0.2),\n",
        "        A.ShiftScaleRotate(shift_limit=0.0625, scale_limit=0.2, rotate_limit=45, p=0.2),\n",
        "        A.OneOf([\n",
        "            A.OpticalDistortion(p=0.3),\n",
        "            A.GridDistortion(p=.1),\n",
        "            A.IAAPiecewiseAffine(p=0.3),\n",
        "        ], p=0.2),\n",
        "        A.OneOf([\n",
        "            A.CLAHE(clip_limit=2),\n",
        "            A.IAASharpen(),\n",
        "            A.IAAEmboss(),\n",
        "            A.RandomBrightnessContrast(),            \n",
        "        ], p=0.3),\n",
        "        A.HueSaturationValue(p=0.3),\n",
        "    ])\n",
        "  random.seed(42)\n",
        "  augmented_image = transform(image=image)['image']\n",
        "  return augmented_image"
      ],
      "execution_count": 96,
      "outputs": []
    },
    {
      "cell_type": "markdown",
      "metadata": {
        "id": "3YtT5_tQ4N7W"
      },
      "source": [
        "Класс PetDataset возвращает по индексу преобразованное изображение."
      ]
    },
    {
      "cell_type": "code",
      "metadata": {
        "id": "ScOAH_NB4XcI"
      },
      "source": [
        "class PetDataset(Dataset):\n",
        "  def __init__(self, filenames, labels):\n",
        "    self._filenames = filenames\n",
        "    self._labels = labels\n",
        "\n",
        "  def __len__(self):\n",
        "    return len(self._filenames)\n",
        "\n",
        "  def __getitem__(self, idx):\n",
        "    filename = self._filenames[idx]\n",
        "    label = self._labels[idx]\n",
        "    img = cv2.imread(filename)\n",
        "    img = cv2.cvtColor(img, cv2.COLOR_BGR2RGB)\n",
        "    img = resize(img, (224, 224))\n",
        "    img = add_pad(img, (224, 224))\n",
        "    img = transform_album(img)\n",
        "    img = torch.tensor(img, dtype=torch.float).permute(2, 0, 1) / 255.\n",
        "    return img, label"
      ],
      "execution_count": 98,
      "outputs": []
    },
    {
      "cell_type": "markdown",
      "metadata": {
        "id": "8rAhcLbB4gwl"
      },
      "source": [
        "В качестве исходной модели выступает претренированная ResNet50. Отсекаем последний слой на 1000 классов, заменяя его на слой с 3 классами. Создаются датасеты и даталоадеры для тренировочкой и тестовой выборки."
      ]
    },
    {
      "cell_type": "code",
      "metadata": {
        "colab": {
          "base_uri": "https://localhost:8080/",
          "height": 102,
          "referenced_widgets": [
            "38539aa7e99740fe9644a03fc4064f31",
            "3d841cad1aa247beb66c4c5a30424683",
            "42b070f8a4584137873d45988792c391",
            "7575ca3ca6c14490942b9afaecd7c96a",
            "c09f1fc31ae04f8d8fe7e95a8c926658",
            "d6b3edcda3d741d796305e2457852088",
            "8804d894dc2d4880a78b607d1cb8412d",
            "f7f8b65391db4d05bf03e05ce06e0986"
          ]
        },
        "id": "OjtsyDhV4iZR",
        "outputId": "e77d308b-8b2a-46bf-d906-317bba9170bf"
      },
      "source": [
        "train_dataset = PetDataset(train_filenames, train_labels)\n",
        "train_dataloader = DataLoader(train_dataset, shuffle=True, batch_size=64, num_workers=0)\n",
        "test_dataset = PetDataset(test_filenames, test_labels)\n",
        "test_dataloader = DataLoader(test_dataset, shuffle=True, batch_size=108, num_workers=0)\n",
        "\n",
        "model = resnet50(pretrained=True)\n",
        "for param in model.parameters():\n",
        "  param.requires_grad=False\n",
        "\n",
        "criterion = torch.nn.CrossEntropyLoss()\n",
        "optimizer = torch.optim.Adam(model.parameters(), lr=0.0005)\n",
        "num_ftrs = model.fc.in_features\n",
        "model.fc = torch.nn.Linear(num_ftrs, 3)\n"
      ],
      "execution_count": 99,
      "outputs": [
        {
          "output_type": "stream",
          "text": [
            "Downloading: \"https://download.pytorch.org/models/resnet50-19c8e357.pth\" to /root/.cache/torch/hub/checkpoints/resnet50-19c8e357.pth\n"
          ],
          "name": "stderr"
        },
        {
          "output_type": "display_data",
          "data": {
            "application/vnd.jupyter.widget-view+json": {
              "model_id": "38539aa7e99740fe9644a03fc4064f31",
              "version_minor": 0,
              "version_major": 2
            },
            "text/plain": [
              "HBox(children=(FloatProgress(value=0.0, max=102502400.0), HTML(value='')))"
            ]
          },
          "metadata": {
            "tags": []
          }
        },
        {
          "output_type": "stream",
          "text": [
            "\n"
          ],
          "name": "stdout"
        }
      ]
    },
    {
      "cell_type": "markdown",
      "metadata": {
        "id": "zGNkz9-t4z2r"
      },
      "source": [
        "В качестве исходной модели выступает претренированная ResNet50. Отсекаем последний слой на 1000 классов, заменяя его на слой с 3 классами."
      ]
    },
    {
      "cell_type": "code",
      "metadata": {
        "id": "qdja_tLK5BYE"
      },
      "source": [
        "def run_test_on_epoch(model, epoch, test_loader):\n",
        "    model.eval()\n",
        "    with torch.no_grad():\n",
        "      test_accuracy = []\n",
        "      test_real = []\n",
        "      for batch_x, batch_y in tqdm(test_loader):\n",
        "          outputs = model(batch_x.to('cuda')).detach().cpu().numpy()\n",
        "          test_accuracy.append(outputs)\n",
        "          test_real.append(batch_y.detach().cpu().numpy())\n",
        "      print(\"Epoch\", epoch, \"test accuracy\", accuracy_score(np.hstack(test_real), np.argmax(np.hstack(test_accuracy), axis=1)))\n",
        "    model.train()"
      ],
      "execution_count": 102,
      "outputs": []
    },
    {
      "cell_type": "markdown",
      "metadata": {
        "id": "UzL2p83t5DdK"
      },
      "source": [
        "Размораживаем последние 3 слоя и обучаем модели в течение 25 эпох."
      ]
    },
    {
      "cell_type": "code",
      "metadata": {
        "id": "rZB3IZKV5oso"
      },
      "source": [
        "params = list(model.parameters())\n",
        "    for epoch in tqdm(range(25)):\n",
        "      params[-epoch].requires_grad = True\n",
        "      for batch_x, batch_y in train_dataloder:\n",
        "        optimizer.zero_grad()\n",
        "        image, label = batch\n",
        "        image = image.to('cuda')\n",
        "        label = label.to('cuda')\n",
        "        label_pred = model(image)\n",
        "        loss = criterion(label_pred, label)\n",
        "        loss.backward()\n",
        "        optimizer.step()\n",
        "      run_test_on_epoch(model, epoch, test_dataloader)"
      ],
      "execution_count": null,
      "outputs": []
    }
  ]
}